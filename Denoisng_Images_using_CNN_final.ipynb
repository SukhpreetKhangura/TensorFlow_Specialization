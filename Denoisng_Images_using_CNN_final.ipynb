{
  "nbformat": 4,
  "nbformat_minor": 0,
  "metadata": {
    "accelerator": "GPU",
    "colab": {
      "name": "Denoisng_Images_using_CNN (1).ipynb",
      "provenance": [],
      "toc_visible": true
    },
    "kernelspec": {
      "display_name": "Python 3",
      "language": "python",
      "name": "python3"
    },
    "language_info": {
      "codemirror_mode": {
        "name": "ipython",
        "version": 3
      },
      "file_extension": ".py",
      "mimetype": "text/x-python",
      "name": "python",
      "nbconvert_exporter": "python",
      "pygments_lexer": "ipython3",
      "version": "3.7.3"
    }
  },
  "cells": [
    {
      "cell_type": "code",
      "metadata": {
        "colab_type": "code",
        "id": "9zBZpSJ4Dd8L",
        "outputId": "2a8ebc3d-c48f-4075-e0a0-29d10fb268d6",
        "colab": {
          "base_uri": "https://localhost:8080/",
          "height": 34
        }
      },
      "source": [
        "import tensorflow as tf \n",
        "print(tf.__version__) "
      ],
      "execution_count": 1,
      "outputs": [
        {
          "output_type": "stream",
          "text": [
            "2.2.0-rc2\n"
          ],
          "name": "stdout"
        }
      ]
    },
    {
      "cell_type": "code",
      "metadata": {
        "colab_type": "code",
        "id": "s4xr_zd8_7f-",
        "colab": {}
      },
      "source": [
        "import os\n",
        "import zipfile\n",
        "import random\n",
        "import shutil\n",
        "from tensorflow.keras.optimizers import RMSprop\n",
        "from tensorflow.keras.preprocessing.image import ImageDataGenerator\n",
        "from shutil import copyfile\n",
        "from os import getcwd\n",
        "import numpy as np\n",
        "import matplotlib.pyplot as plt\n",
        "from PIL import Image\n"
      ],
      "execution_count": 0,
      "outputs": []
    },
    {
      "cell_type": "code",
      "metadata": {
        "colab_type": "code",
        "id": "P2XbhaQWFcvz",
        "colab": {
          "base_uri": "https://localhost:8080/",
          "height": 34
        },
        "outputId": "5d035ceb-d4ff-49d1-fc44-30dd52c8f98a"
      },
      "source": [
        "import keras\n",
        "from keras.datasets import mnist\n",
        "\n",
        "from keras.models import Sequential\n",
        "from tensorflow.keras.preprocessing.image import ImageDataGenerator\n",
        "from tensorflow.keras.layers import Dense, Conv2D,Conv2DTranspose, Flatten, Dropout, MaxPooling2D,UpSampling2D"
      ],
      "execution_count": 3,
      "outputs": [
        {
          "output_type": "stream",
          "text": [
            "Using TensorFlow backend.\n"
          ],
          "name": "stderr"
        }
      ]
    },
    {
      "cell_type": "code",
      "metadata": {
        "id": "YgPtWWef90vD",
        "colab_type": "code",
        "colab": {}
      },
      "source": [
        "# Model configuration\n",
        "img_width, img_height = 28, 28\n",
        "batch_size = 150\n",
        "no_epochs = 50\n",
        "validation_split = 0.2\n",
        "verbosity = 1\n",
        "max_norm_value = 2.0\n",
        "noise_factor = 0.55\n",
        "number_of_visualizations = 6\n",
        "patch_size=(28,28)"
      ],
      "execution_count": 0,
      "outputs": []
    },
    {
      "cell_type": "code",
      "metadata": {
        "id": "Uzhf4hW790vG",
        "colab_type": "code",
        "colab": {}
      },
      "source": [
        " #Load MNIST dataset\n",
        "(input_train, target_train), (input_test, target_test) = mnist.load_data()\n"
      ],
      "execution_count": 0,
      "outputs": []
    },
    {
      "cell_type": "code",
      "metadata": {
        "id": "VjqofWcj90vJ",
        "colab_type": "code",
        "colab": {
          "base_uri": "https://localhost:8080/",
          "height": 34
        },
        "outputId": "37273c47-1d79-4421-f0ee-e7645d23f500"
      },
      "source": [
        "input_train = input_train.reshape(input_train.shape[0], img_width, img_height, 1)\n",
        "input_test = input_test.reshape(input_test.shape[0], img_width, img_height, 1)\n",
        "input_shape = (img_width, img_height, 1)\n",
        "print(input_shape)\n"
      ],
      "execution_count": 6,
      "outputs": [
        {
          "output_type": "stream",
          "text": [
            "(28, 28, 1)\n"
          ],
          "name": "stdout"
        }
      ]
    },
    {
      "cell_type": "code",
      "metadata": {
        "id": "1MqrKBcR-b6i",
        "colab_type": "code",
        "colab": {}
      },
      "source": [
        "# Parse numbers as floats\n",
        "input_train = input_train.astype('float32')\n",
        "input_test = input_test.astype('float32')\n",
        "\n",
        "# Normalize data\n",
        "input_train = input_train / 255\n",
        "input_test = input_test / 255"
      ],
      "execution_count": 0,
      "outputs": []
    },
    {
      "cell_type": "code",
      "metadata": {
        "id": "IOOPv9yH90vR",
        "colab_type": "code",
        "colab": {}
      },
      "source": [
        "train_patches=[]\n",
        "test_patches=[]\n",
        "train_patches=input_train\n",
        "test_patches=input_test"
      ],
      "execution_count": 0,
      "outputs": []
    },
    {
      "cell_type": "code",
      "metadata": {
        "id": "l0h9vM_t90vT",
        "colab_type": "code",
        "colab": {
          "base_uri": "https://localhost:8080/",
          "height": 34
        },
        "outputId": "e8fbd134-32b0-41c0-bc14-5a529970d9ab"
      },
      "source": [
        "train_patches.shape"
      ],
      "execution_count": 67,
      "outputs": [
        {
          "output_type": "execute_result",
          "data": {
            "text/plain": [
              "(60000, 28, 28, 1)"
            ]
          },
          "metadata": {
            "tags": []
          },
          "execution_count": 67
        }
      ]
    },
    {
      "cell_type": "code",
      "metadata": {
        "colab_type": "code",
        "id": "DEfReTpdEKF2",
        "outputId": "2f2b059f-6e68-4b06-8051-1f2cfc8cf8df",
        "colab": {
          "base_uri": "https://localhost:8080/",
          "height": 513
        }
      },
      "source": [
        "for i in  range(2): #range(train_patches.shape[0]):\n",
        "    patch= train_patches[i,:,:]\n",
        "    patch = np.squeeze(patch)\n",
        "    fig = plt.figure()\n",
        "    plt.imshow(patch)\n",
        "    plt.show()"
      ],
      "execution_count": 9,
      "outputs": [
        {
          "output_type": "display_data",
          "data": {
            "image/png": "[encoded data removed]",
            "text/plain": [
              "<Figure size 432x288 with 1 Axes>"
            ]
          },
          "metadata": {
            "tags": []
          }
        },
        {
          "output_type": "display_data",
          "data": {
            "image/png": "[encoded data removed]",
            "text/plain": [
              "<Figure size 432x288 with 1 Axes>"
            ]
          },
          "metadata": {
            "tags": []
          }
        }
      ]
    },
    {
      "cell_type": "code",
      "metadata": {
        "colab_type": "code",
        "id": "dvq-mR72P7dI",
        "outputId": "625c981a-c239-4806-f8cd-22e0ef697cda",
        "colab": {
          "base_uri": "https://localhost:8080/",
          "height": 513
        }
      },
      "source": [
        "for i in range(2):#range(test_patches.shape[0]):\n",
        "    patch= test_patches[i,:,:]\n",
        "    patch = np.squeeze(patch)\n",
        "    fig = plt.figure()\n",
        "    plt.imshow(patch)\n",
        "    plt.show()"
      ],
      "execution_count": 10,
      "outputs": [
        {
          "output_type": "display_data",
          "data": {
            "image/png": "[encoded data removed]",
            "text/plain": [
              "<Figure size 432x288 with 1 Axes>"
            ]
          },
          "metadata": {
            "tags": []
          }
        },
        {
          "output_type": "display_data",
          "data": {
            "image/png": "[encoded data removed]",
            "text/plain": [
              "<Figure size 432x288 with 1 Axes>"
            ]
          },
          "metadata": {
            "tags": []
          }
        }
      ]
    },
    {
      "cell_type": "code",
      "metadata": {
        "colab_type": "code",
        "id": "9pmitPsYEuYB",
        "colab": {}
      },
      "source": [
        "def add_gaussian_noise(image_in, mu, sigma):\n",
        "    temp_image = np.float64(np.copy(image_in))\n",
        "\n",
        "    h = temp_image.shape[0]\n",
        "    w = temp_image.shape[1]\n",
        "    noise = np.random.normal(mu,sigma, [h,w])\n",
        "    noisy_image = np.zeros(temp_image.shape, np.float64)\n",
        "    noisy_image = temp_image + noise\n",
        "    return noisy_image"
      ],
      "execution_count": 0,
      "outputs": []
    },
    {
      "cell_type": "code",
      "metadata": {
        "colab_type": "code",
        "id": "ApJlsw3rE0VX",
        "outputId": "f8a41999-5634-4500-b9e3-8b7d171a7aca",
        "colab": {
          "base_uri": "https://localhost:8080/",
          "height": 50
        }
      },
      "source": [
        "mean=0\n",
        "sigma=0.5\n",
        "noisy_train_patches=[]\n",
        "for i in range(train_patches.shape[0]):\n",
        "    patch= train_patches[i,:,:]\n",
        "    patch = np.squeeze(patch)\n",
        "    noisy_patch=add_gaussian_noise(patch, mean,sigma)\n",
        "    noisy_train_patches.append(noisy_patch)\n",
        "noisy_train_patches= np.array(noisy_train_patches, dtype=np.float)   \n",
        "noisy_train_patches = np.expand_dims(noisy_train_patches,axis=-1)\n",
        "print(noisy_train_patches.shape )\n",
        "\n",
        "\n",
        "\n",
        "noisy_test_patches=[]\n",
        "for i in range(test_patches.shape[0]):\n",
        "    patch= test_patches[i,:,:]\n",
        "    patch = np.squeeze(patch)\n",
        "    noisy_test_patch=add_gaussian_noise(patch, mean,sigma)\n",
        "    noisy_test_patches.append(noisy_test_patch)\n",
        "noisy_test_patches= np.array(noisy_test_patches, dtype=np.float)   \n",
        "noisy_test_patches = np.expand_dims(noisy_test_patches,axis=-1)\n",
        "print(noisy_test_patches.shape )"
      ],
      "execution_count": 38,
      "outputs": [
        {
          "output_type": "stream",
          "text": [
            "(60000, 28, 28, 1)\n",
            "(10000, 28, 28, 1)\n"
          ],
          "name": "stdout"
        }
      ]
    },
    {
      "cell_type": "code",
      "metadata": {
        "colab_type": "code",
        "id": "9M2loQAFE-Pb",
        "outputId": "9e39228f-2ed0-4058-9e9f-9533dac0b6bd",
        "colab": {
          "base_uri": "https://localhost:8080/",
          "height": 513
        }
      },
      "source": [
        "for i in range(2): #range(noisy_train_patches.shape[0]):\n",
        "    patch= noisy_train_patches[i,:,:]\n",
        "    patch = np.squeeze(patch)\n",
        "    fig = plt.figure()\n",
        "    plt.imshow(patch)\n",
        "    plt.show()"
      ],
      "execution_count": 39,
      "outputs": [
        {
          "output_type": "display_data",
          "data": {
            "image/png": "[encoded data removed]",
            "text/plain": [
              "<Figure size 432x288 with 1 Axes>"
            ]
          },
          "metadata": {
            "tags": []
          }
        },
        {
          "output_type": "display_data",
          "data": {
            "image/png": "[encoded data removed]",
            "text/plain": [
              "<Figure size 432x288 with 1 Axes>"
            ]
          },
          "metadata": {
            "tags": []
          }
        }
      ]
    },
    {
      "cell_type": "code",
      "metadata": {
        "colab_type": "code",
        "id": "mH3PiAUoOUlg",
        "outputId": "ebc3e648-1250-420a-ab80-ebb7f5a96723",
        "colab": {
          "base_uri": "https://localhost:8080/",
          "height": 513
        }
      },
      "source": [
        "for i in range(2):#range(noisy_test_patches.shape[0]):\n",
        "    patch= noisy_test_patches[i,:,:]\n",
        "    patch = np.squeeze(patch)\n",
        "    fig = plt.figure()\n",
        "    plt.imshow(patch)\n",
        "    plt.show()"
      ],
      "execution_count": 14,
      "outputs": [
        {
          "output_type": "display_data",
          "data": {
            "image/png": "[encoded data removed]",
            "text/plain": [
              "<Figure size 432x288 with 1 Axes>"
            ]
          },
          "metadata": {
            "tags": []
          }
        },
        {
          "output_type": "display_data",
          "data": {
            "image/png": "[encoded data removed]",
            "text/plain": [
              "<Figure size 432x288 with 1 Axes>"
            ]
          },
          "metadata": {
            "tags": []
          }
        }
      ]
    },
    {
      "cell_type": "code",
      "metadata": {
        "colab_type": "code",
        "id": "bZkL9Rp4U7sQ",
        "outputId": "681be2a7-028d-455f-b4e8-c42093cf1ce6",
        "colab": {
          "base_uri": "https://localhost:8080/",
          "height": 319
        }
      },
      "source": [
        "model = tf.keras.models.Sequential([\n",
        "    Conv2D(64, (3,3), padding='same', activation='relu', kernel_initializer='he_normal',input_shape=(patch_size[0],patch_size[1],1)),\n",
        "  \n",
        "\n",
        "    Conv2D(32, (3,3), padding='same', activation='relu',kernel_initializer='he_normal'),\n",
        "\n",
        "\n",
        "    Conv2DTranspose(32, (3,3), padding='same', activation='relu',kernel_initializer='he_normal'),\n",
        "\n",
        "    Conv2DTranspose(64, (3,3), padding='same', activation='relu',kernel_initializer='he_normal'),\n",
        "\n",
        "    Conv2D(1, (3,3), padding='same', activation='sigmoid')\n",
        "])\n",
        "model.summary()"
      ],
      "execution_count": 40,
      "outputs": [
        {
          "output_type": "stream",
          "text": [
            "Model: \"sequential_1\"\n",
            "_________________________________________________________________\n",
            "Layer (type)                 Output Shape              Param #   \n",
            "=================================================================\n",
            "conv2d_3 (Conv2D)            (None, 28, 28, 64)        640       \n",
            "_________________________________________________________________\n",
            "conv2d_4 (Conv2D)            (None, 28, 28, 32)        18464     \n",
            "_________________________________________________________________\n",
            "conv2d_transpose_2 (Conv2DTr (None, 28, 28, 32)        9248      \n",
            "_________________________________________________________________\n",
            "conv2d_transpose_3 (Conv2DTr (None, 28, 28, 64)        18496     \n",
            "_________________________________________________________________\n",
            "conv2d_5 (Conv2D)            (None, 28, 28, 1)         577       \n",
            "=================================================================\n",
            "Total params: 47,425\n",
            "Trainable params: 47,425\n",
            "Non-trainable params: 0\n",
            "_________________________________________________________________\n"
          ],
          "name": "stdout"
        }
      ]
    },
    {
      "cell_type": "code",
      "metadata": {
        "colab_type": "code",
        "id": "zj_uJPsKHDF7",
        "colab": {}
      },
      "source": [
        "\n",
        "model.compile(optimizer='adam', loss='binary_crossentropy')\n",
        "#model.compile(optimizer='adam', loss='mean_squared_error')"
      ],
      "execution_count": 0,
      "outputs": []
    },
    {
      "cell_type": "code",
      "metadata": {
        "colab_type": "code",
        "id": "bRm8F8c4F0OB",
        "outputId": "63886350-ffea-4dd9-acb2-a0e878522303",
        "colab": {
          "base_uri": "https://localhost:8080/",
          "height": 353
        }
      },
      "source": [
        "history = model.fit(\n",
        "    noisy_train_patches,\n",
        "    train_patches,\n",
        "    batch_size=150,\n",
        "    epochs=10#0\n",
        "    #shuffle=True,\n",
        "    #callbacks=[checkpoint_outputs]\n",
        ")"
      ],
      "execution_count": 54,
      "outputs": [
        {
          "output_type": "stream",
          "text": [
            "Epoch 1/10\n",
            "400/400 [==============================] - 4s 11ms/step - loss: 0.1610\n",
            "Epoch 2/10\n",
            "400/400 [==============================] - 4s 11ms/step - loss: 0.0977\n",
            "Epoch 3/10\n",
            "400/400 [==============================] - 4s 11ms/step - loss: 0.0959\n",
            "Epoch 4/10\n",
            "400/400 [==============================] - 4s 11ms/step - loss: 0.0950\n",
            "Epoch 5/10\n",
            "400/400 [==============================] - 4s 11ms/step - loss: 0.0943\n",
            "Epoch 6/10\n",
            "400/400 [==============================] - 4s 11ms/step - loss: 0.0940\n",
            "Epoch 7/10\n",
            "400/400 [==============================] - 4s 11ms/step - loss: 0.0935\n",
            "Epoch 8/10\n",
            "400/400 [==============================] - 4s 11ms/step - loss: 0.0933\n",
            "Epoch 9/10\n",
            "400/400 [==============================] - 4s 11ms/step - loss: 0.0930\n",
            "Epoch 10/10\n",
            "400/400 [==============================] - 4s 11ms/step - loss: 0.0927\n"
          ],
          "name": "stdout"
        }
      ]
    },
    {
      "cell_type": "code",
      "metadata": {
        "colab_type": "code",
        "id": "IjPhM_iiM4cG",
        "outputId": "c024543a-6834-4645-fac6-5854f0828a35",
        "colab": {
          "base_uri": "https://localhost:8080/",
          "height": 34
        }
      },
      "source": [
        "denoised_train_patches=[]\n",
        "denoised_train_patches = model.predict(noisy_train_patches)\n",
        "denoised_train_patches.shape"
      ],
      "execution_count": 55,
      "outputs": [
        {
          "output_type": "execute_result",
          "data": {
            "text/plain": [
              "(60000, 28, 28, 1)"
            ]
          },
          "metadata": {
            "tags": []
          },
          "execution_count": 55
        }
      ]
    },
    {
      "cell_type": "code",
      "metadata": {
        "colab_type": "code",
        "id": "0vtDkhWAobaI",
        "outputId": "213fd50f-54cd-4ecd-de8a-f84597390fd5",
        "colab": {
          "base_uri": "https://localhost:8080/",
          "height": 34
        }
      },
      "source": [
        "denoised_test_patches=[]\n",
        "denoised_test_patches = model.predict(noisy_test_patches)\n",
        "denoised_test_patches.shape"
      ],
      "execution_count": 56,
      "outputs": [
        {
          "output_type": "execute_result",
          "data": {
            "text/plain": [
              "(10000, 28, 28, 1)"
            ]
          },
          "metadata": {
            "tags": []
          },
          "execution_count": 56
        }
      ]
    },
    {
      "cell_type": "code",
      "metadata": {
        "colab_type": "code",
        "id": "Zr_iDgGFPJCf",
        "outputId": "c07a938b-3384-47b5-b812-8ea952cc806b",
        "colab": {
          "base_uri": "https://localhost:8080/",
          "height": 791
        }
      },
      "source": [
        "# Plot denoised train images\n",
        "number_of_visualizations=2\n",
        "for i in range(0, number_of_visualizations):\n",
        "  # Get the sample and the reconstruction\n",
        "  noisy_image = noisy_train_patches[i,:,:]\n",
        "  noisy_image = np.squeeze(noisy_image)\n",
        "\n",
        "  pure_image  = train_patches[i,:,:]\n",
        "  pure_image = np.squeeze(pure_image)\n",
        "\n",
        "  denoised_image = denoised_train_patches[i,:,:]\n",
        "  denoised_image = np.squeeze(denoised_image)\n",
        "\n",
        "  input_class =target_train[i]\n",
        "  # Matplotlib preparations\n",
        "  fig, axes = plt.subplots(1, 3)\n",
        "  fig.set_size_inches(12, 7.5)\n",
        "  # Plot sample and reconstruciton\n",
        "  axes[0].imshow(noisy_image)\n",
        "  axes[0].set_title('Noisy image')\n",
        "  axes[1].imshow(pure_image)\n",
        "  axes[1].set_title('Original image')\n",
        "  axes[2].imshow(denoised_image)\n",
        "  axes[2].set_title('Denoised image')\n",
        "  fig.suptitle(f'File name = {input_class}')\n",
        "  plt.show()"
      ],
      "execution_count": 59,
      "outputs": [
        {
          "output_type": "display_data",
          "data": {
            "image/png": "[encoded data removed]",
            "text/plain": [
              "<Figure size 864x540 with 3 Axes>"
            ]
          },
          "metadata": {
            "tags": []
          }
        },
        {
          "output_type": "display_data",
          "data": {
            "image/png": "[encoded data removed]",
            "text/plain": [
              "<Figure size 864x540 with 3 Axes>"
            ]
          },
          "metadata": {
            "tags": []
          }
        }
      ]
    },
    {
      "cell_type": "code",
      "metadata": {
        "colab_type": "code",
        "id": "0UHNnjmrom3W",
        "outputId": "3ca1de25-7793-4c3a-b4b3-96d1686d27a7",
        "colab": {
          "base_uri": "https://localhost:8080/",
          "height": 791
        }
      },
      "source": [
        "# Plot denoised images\n",
        "number_of_visualizations=2\n",
        "for i in range(0, number_of_visualizations):\n",
        "  # Get the sample and the reconstruction\n",
        "  noisy_image = noisy_test_patches[i,:,:]\n",
        "  noisy_image = np.squeeze(noisy_image)\n",
        "\n",
        "  pure_image  = test_patches[i,:,:]\n",
        "  pure_image = np.squeeze(pure_image)\n",
        "\n",
        "  denoised_image = denoised_test_patches[i,:,:]\n",
        "  denoised_image = np.squeeze(denoised_image)\n",
        "\n",
        "  input_class = target_test[i]\n",
        "  # Matplotlib preparations\n",
        "  fig, axes = plt.subplots(1, 3)\n",
        "  fig.set_size_inches(12, 7.5)\n",
        "  # Plot sample and reconstruciton\n",
        "  axes[0].imshow(noisy_image)\n",
        "  axes[0].set_title('Noisy image')\n",
        "  axes[1].imshow(pure_image)\n",
        "  axes[1].set_title('Original image')\n",
        "  axes[2].imshow(denoised_image)\n",
        "  axes[2].set_title('Denoised image')\n",
        "  fig.suptitle(f'File name = {input_class}')\n",
        "  plt.show()"
      ],
      "execution_count": 60,
      "outputs": [
        {
          "output_type": "display_data",
          "data": {
            "image/png": "[encoded data removed]",
            "text/plain": [
              "<Figure size 864x540 with 3 Axes>"
            ]
          },
          "metadata": {
            "tags": []
          }
        },
        {
          "output_type": "display_data",
          "data": {
            "image/png": "[encoded data removed]",
            "text/plain": [
              "<Figure size 864x540 with 3 Axes>"
            ]
          },
          "metadata": {
            "tags": []
          }
        }
      ]
    }
  ]
}